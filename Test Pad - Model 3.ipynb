{
 "cells": [
  {
   "cell_type": "code",
   "execution_count": 1,
   "metadata": {},
   "outputs": [
    {
     "name": "stderr",
     "output_type": "stream",
     "text": [
      "Using TensorFlow backend.\n"
     ]
    },
    {
     "data": {
      "text/html": [
       "<style>.container { width:100% !important; }</style>"
      ],
      "text/plain": [
       "<IPython.core.display.HTML object>"
      ]
     },
     "metadata": {},
     "output_type": "display_data"
    }
   ],
   "source": [
    "from numpy import array\n",
    "from numpy import asarray\n",
    "from numpy import zeros\n",
    "from keras.preprocessing.text import Tokenizer\n",
    "from keras.preprocessing.sequence import pad_sequences\n",
    "from keras.models import Sequential\n",
    "from keras.layers import Dense\n",
    "from keras.layers import Flatten\n",
    "from keras.layers import Embedding\n",
    "from keras.layers import Input, Embedding, LSTM, Dense, concatenate, Dropout\n",
    "from keras.models import Model\n",
    "\n",
    "\n",
    "import pandas as pd\n",
    "import numpy as np\n",
    "\n",
    "import pickle\n",
    "from tqdm import tqdm\n",
    "import os\n",
    "\n",
    "\n",
    "import warnings\n",
    "warnings.filterwarnings(\"ignore\")\n",
    "\n",
    "from IPython.core.display import display, HTML\n",
    "display(HTML(\"<style>.container { width:100% !important; }</style>\"))"
   ]
  },
  {
   "cell_type": "code",
   "execution_count": 2,
   "metadata": {},
   "outputs": [
    {
     "data": {
      "text/html": [
       "<div>\n",
       "<style scoped>\n",
       "    .dataframe tbody tr th:only-of-type {\n",
       "        vertical-align: middle;\n",
       "    }\n",
       "\n",
       "    .dataframe tbody tr th {\n",
       "        vertical-align: top;\n",
       "    }\n",
       "\n",
       "    .dataframe thead th {\n",
       "        text-align: right;\n",
       "    }\n",
       "</style>\n",
       "<table border=\"1\" class=\"dataframe\">\n",
       "  <thead>\n",
       "    <tr style=\"text-align: right;\">\n",
       "      <th></th>\n",
       "      <th>Unnamed: 0</th>\n",
       "      <th>school_state</th>\n",
       "      <th>teacher_prefix</th>\n",
       "      <th>project_grade_category</th>\n",
       "      <th>teacher_number_of_previously_posted_projects</th>\n",
       "      <th>project_is_approved</th>\n",
       "      <th>clean_categories</th>\n",
       "      <th>clean_subcategories</th>\n",
       "      <th>essay</th>\n",
       "      <th>project_title</th>\n",
       "      <th>price</th>\n",
       "      <th>std_price</th>\n",
       "      <th>nrm_price</th>\n",
       "      <th>presence_of_the_numerical_digits</th>\n",
       "      <th>quantity</th>\n",
       "    </tr>\n",
       "  </thead>\n",
       "  <tbody>\n",
       "    <tr>\n",
       "      <th>0</th>\n",
       "      <td>0</td>\n",
       "      <td>in</td>\n",
       "      <td>mrs</td>\n",
       "      <td>grades_prek_2</td>\n",
       "      <td>0</td>\n",
       "      <td>0</td>\n",
       "      <td>literacy language</td>\n",
       "      <td>esl literacy</td>\n",
       "      <td>students english learners working english seco...</td>\n",
       "      <td>educational support english learners home</td>\n",
       "      <td>154.60</td>\n",
       "      <td>-0.390533</td>\n",
       "      <td>0.015397</td>\n",
       "      <td>0</td>\n",
       "      <td>23</td>\n",
       "    </tr>\n",
       "    <tr>\n",
       "      <th>1</th>\n",
       "      <td>1</td>\n",
       "      <td>fl</td>\n",
       "      <td>mr</td>\n",
       "      <td>grades_6_8</td>\n",
       "      <td>7</td>\n",
       "      <td>1</td>\n",
       "      <td>history civics health sports</td>\n",
       "      <td>civics government team sports</td>\n",
       "      <td>students arrive school eager learn polite gene...</td>\n",
       "      <td>wanted projector hungry learners</td>\n",
       "      <td>299.00</td>\n",
       "      <td>0.002396</td>\n",
       "      <td>0.029839</td>\n",
       "      <td>0</td>\n",
       "      <td>1</td>\n",
       "    </tr>\n",
       "    <tr>\n",
       "      <th>2</th>\n",
       "      <td>2</td>\n",
       "      <td>az</td>\n",
       "      <td>ms</td>\n",
       "      <td>grades_6_8</td>\n",
       "      <td>1</td>\n",
       "      <td>0</td>\n",
       "      <td>health sports</td>\n",
       "      <td>health wellness team sports</td>\n",
       "      <td>true champions not always ones win guts mia ha...</td>\n",
       "      <td>soccer equipment awesome middle school students</td>\n",
       "      <td>516.85</td>\n",
       "      <td>0.595191</td>\n",
       "      <td>0.051628</td>\n",
       "      <td>0</td>\n",
       "      <td>22</td>\n",
       "    </tr>\n",
       "  </tbody>\n",
       "</table>\n",
       "</div>"
      ],
      "text/plain": [
       "   Unnamed: 0 school_state teacher_prefix project_grade_category  \\\n",
       "0           0           in            mrs          grades_prek_2   \n",
       "1           1           fl             mr             grades_6_8   \n",
       "2           2           az             ms             grades_6_8   \n",
       "\n",
       "   teacher_number_of_previously_posted_projects  project_is_approved  \\\n",
       "0                                             0                    0   \n",
       "1                                             7                    1   \n",
       "2                                             1                    0   \n",
       "\n",
       "               clean_categories            clean_subcategories  \\\n",
       "0             literacy language                   esl literacy   \n",
       "1  history civics health sports  civics government team sports   \n",
       "2                 health sports    health wellness team sports   \n",
       "\n",
       "                                               essay  \\\n",
       "0  students english learners working english seco...   \n",
       "1  students arrive school eager learn polite gene...   \n",
       "2  true champions not always ones win guts mia ha...   \n",
       "\n",
       "                                     project_title   price  std_price  \\\n",
       "0        educational support english learners home  154.60  -0.390533   \n",
       "1                 wanted projector hungry learners  299.00   0.002396   \n",
       "2  soccer equipment awesome middle school students  516.85   0.595191   \n",
       "\n",
       "   nrm_price  presence_of_the_numerical_digits  quantity  \n",
       "0   0.015397                                 0        23  \n",
       "1   0.029839                                 0         1  \n",
       "2   0.051628                                 0        22  "
      ]
     },
     "execution_count": 2,
     "metadata": {},
     "output_type": "execute_result"
    }
   ],
   "source": [
    "data=pd.read_csv(\"fully_processed_data.csv\")\n",
    "data.head(3)"
   ]
  },
  {
   "cell_type": "code",
   "execution_count": 3,
   "metadata": {},
   "outputs": [],
   "source": [
    "from sklearn.model_selection import train_test_split\n",
    "\n",
    "X=data.drop('project_is_approved', axis=1)\n",
    "y=data['project_is_approved']\n",
    "X_train, X_test, y_train, y_test = train_test_split(X, y, test_size=0.2, stratify=y, random_state=5)"
   ]
  },
  {
   "cell_type": "code",
   "execution_count": 4,
   "metadata": {},
   "outputs": [],
   "source": [
    "n_train=X_train.shape[0]\n",
    "n_test=X_test.shape[0]"
   ]
  },
  {
   "cell_type": "code",
   "execution_count": 5,
   "metadata": {},
   "outputs": [],
   "source": [
    "from sklearn.preprocessing import OneHotEncoder\n",
    "from sklearn.feature_extraction.text import CountVectorizer\n",
    "\n",
    "encoder=OneHotEncoder().fit(X_train['school_state'].values.reshape(n_train,1))\n",
    "enc_school_state_train=pd.DataFrame(encoder.transform(X_train['school_state'].values.reshape(n_train,1)).todense(),columns=[\"school_state\"]*X_train['school_state'].nunique())\n",
    "enc_school_state_test=pd.DataFrame(encoder.transform(X_test['school_state'].values.reshape(n_test,1)).todense(),columns=[\"school_state\"]*X_train['school_state'].nunique())\n",
    "\n",
    "encoder=OneHotEncoder().fit(X_train['teacher_prefix'].values.reshape(n_train,1))\n",
    "enc_teacher_prefix_train=pd.DataFrame(encoder.transform(X_train['teacher_prefix'].values.reshape(n_train,1)).todense(),columns=[\"teacher_prefix\"]*X_train['teacher_prefix'].nunique())\n",
    "enc_teacher_prefix_test=pd.DataFrame(encoder.transform(X_test['teacher_prefix'].values.reshape(n_test,1)).todense(),columns=[\"teacher_prefix\"]*X_train['teacher_prefix'].nunique())\n",
    "\n",
    "encoder=OneHotEncoder().fit(X_train['project_grade_category'].values.reshape(n_train,1))\n",
    "enc_project_grade_category_train=pd.DataFrame(encoder.transform(X_train['project_grade_category'].values.reshape(n_train,1)).todense(),columns=[\"project_grade_category\"]*X_train['project_grade_category'].nunique())\n",
    "enc_project_grade_category_test=pd.DataFrame(encoder.transform(X_test['project_grade_category'].values.reshape(n_test,1)).todense(),columns=[\"project_grade_category\"]*X_train['project_grade_category'].nunique())\n",
    "\n",
    "vectorizer1=CountVectorizer(binary=True)\n",
    "enc_clean_categories_train=pd.DataFrame(vectorizer1.fit_transform(X_train['clean_categories']).todense(),columns=vectorizer1.get_feature_names())\n",
    "enc_clean_categories_test=pd.DataFrame(vectorizer1.transform(X_test['clean_categories']).todense(),columns=vectorizer1.get_feature_names())\n",
    "\n",
    "vectorizer2=CountVectorizer(binary=True)\n",
    "enc_clean_subcategories_train=pd.DataFrame(vectorizer2.fit_transform(X_train['clean_subcategories']).todense(),columns=vectorizer2.get_feature_names())\n",
    "enc_clean_subcategories_test=pd.DataFrame(vectorizer2.transform(X_test['clean_subcategories']).todense(),columns=vectorizer2.get_feature_names())"
   ]
  },
  {
   "cell_type": "code",
   "execution_count": 6,
   "metadata": {},
   "outputs": [],
   "source": [
    "encoded_df_train=pd.DataFrame()\n",
    "encoded_df_train=pd.concat([enc_school_state_train,enc_teacher_prefix_train,enc_project_grade_category_train,enc_clean_categories_train,enc_clean_subcategories_train], axis=1)\n",
    "\n",
    "encoded_df_test=pd.DataFrame()\n",
    "encoded_df_test=pd.concat([enc_school_state_test,enc_teacher_prefix_test,enc_project_grade_category_test,enc_clean_categories_test,enc_clean_subcategories_test], axis=1)"
   ]
  },
  {
   "cell_type": "code",
   "execution_count": 7,
   "metadata": {},
   "outputs": [],
   "source": [
    "from sklearn.preprocessing import StandardScaler\n",
    "scaler = StandardScaler()\n",
    "\n",
    "encoded_df_train['nrm_teacher_number_of_previously_posted_projects']=scaler.fit_transform(X_train['teacher_number_of_previously_posted_projects'].values.reshape(-1, 1))\n",
    "encoded_df_test['nrm_teacher_number_of_previously_posted_projects']=scaler.transform(X_test['teacher_number_of_previously_posted_projects'].values.reshape(-1, 1))\n",
    "\n",
    "encoded_df_train['nrm_price']=X_train['nrm_price'].values\n",
    "encoded_df_test['nrm_price']=X_test['nrm_price'].values\n",
    "\n",
    "encoded_df_train['nrm_presence_of_the_numerical_digits']=X_train['presence_of_the_numerical_digits'].values\n",
    "encoded_df_test['nrm_presence_of_the_numerical_digits']=X_test['presence_of_the_numerical_digits'].values\n",
    "\n",
    "encoded_df_train['nrm_quantity']=scaler.fit_transform(X_train['presence_of_the_numerical_digits'].values.reshape(-1, 1))\n",
    "encoded_df_test['nrm_quantity']=scaler.transform(X_test['presence_of_the_numerical_digits'].values.reshape(-1, 1))"
   ]
  },
  {
   "cell_type": "code",
   "execution_count": 8,
   "metadata": {},
   "outputs": [
    {
     "data": {
      "text/html": [
       "<div>\n",
       "<style scoped>\n",
       "    .dataframe tbody tr th:only-of-type {\n",
       "        vertical-align: middle;\n",
       "    }\n",
       "\n",
       "    .dataframe tbody tr th {\n",
       "        vertical-align: top;\n",
       "    }\n",
       "\n",
       "    .dataframe thead th {\n",
       "        text-align: right;\n",
       "    }\n",
       "</style>\n",
       "<table border=\"1\" class=\"dataframe\">\n",
       "  <thead>\n",
       "    <tr style=\"text-align: right;\">\n",
       "      <th></th>\n",
       "      <th>school_state</th>\n",
       "      <th>school_state</th>\n",
       "      <th>school_state</th>\n",
       "      <th>school_state</th>\n",
       "      <th>school_state</th>\n",
       "      <th>school_state</th>\n",
       "      <th>school_state</th>\n",
       "      <th>school_state</th>\n",
       "      <th>school_state</th>\n",
       "      <th>school_state</th>\n",
       "      <th>...</th>\n",
       "      <th>sports</th>\n",
       "      <th>team</th>\n",
       "      <th>visual</th>\n",
       "      <th>warmth</th>\n",
       "      <th>wellness</th>\n",
       "      <th>writing</th>\n",
       "      <th>nrm_teacher_number_of_previously_posted_projects</th>\n",
       "      <th>nrm_price</th>\n",
       "      <th>nrm_presence_of_the_numerical_digits</th>\n",
       "      <th>nrm_quantity</th>\n",
       "    </tr>\n",
       "  </thead>\n",
       "  <tbody>\n",
       "    <tr>\n",
       "      <th>0</th>\n",
       "      <td>0.0</td>\n",
       "      <td>0.0</td>\n",
       "      <td>0.0</td>\n",
       "      <td>0.0</td>\n",
       "      <td>0.0</td>\n",
       "      <td>0.0</td>\n",
       "      <td>0.0</td>\n",
       "      <td>0.0</td>\n",
       "      <td>0.0</td>\n",
       "      <td>0.0</td>\n",
       "      <td>...</td>\n",
       "      <td>0</td>\n",
       "      <td>0</td>\n",
       "      <td>0</td>\n",
       "      <td>0</td>\n",
       "      <td>0</td>\n",
       "      <td>1</td>\n",
       "      <td>-0.185953</td>\n",
       "      <td>0.014935</td>\n",
       "      <td>1</td>\n",
       "      <td>2.438385</td>\n",
       "    </tr>\n",
       "    <tr>\n",
       "      <th>1</th>\n",
       "      <td>0.0</td>\n",
       "      <td>0.0</td>\n",
       "      <td>0.0</td>\n",
       "      <td>0.0</td>\n",
       "      <td>0.0</td>\n",
       "      <td>0.0</td>\n",
       "      <td>0.0</td>\n",
       "      <td>0.0</td>\n",
       "      <td>0.0</td>\n",
       "      <td>0.0</td>\n",
       "      <td>...</td>\n",
       "      <td>0</td>\n",
       "      <td>0</td>\n",
       "      <td>0</td>\n",
       "      <td>0</td>\n",
       "      <td>0</td>\n",
       "      <td>0</td>\n",
       "      <td>-0.293475</td>\n",
       "      <td>0.000433</td>\n",
       "      <td>0</td>\n",
       "      <td>-0.410108</td>\n",
       "    </tr>\n",
       "    <tr>\n",
       "      <th>2</th>\n",
       "      <td>0.0</td>\n",
       "      <td>0.0</td>\n",
       "      <td>0.0</td>\n",
       "      <td>0.0</td>\n",
       "      <td>0.0</td>\n",
       "      <td>0.0</td>\n",
       "      <td>0.0</td>\n",
       "      <td>0.0</td>\n",
       "      <td>0.0</td>\n",
       "      <td>1.0</td>\n",
       "      <td>...</td>\n",
       "      <td>0</td>\n",
       "      <td>0</td>\n",
       "      <td>0</td>\n",
       "      <td>0</td>\n",
       "      <td>0</td>\n",
       "      <td>0</td>\n",
       "      <td>-0.400996</td>\n",
       "      <td>0.058306</td>\n",
       "      <td>1</td>\n",
       "      <td>2.438385</td>\n",
       "    </tr>\n",
       "  </tbody>\n",
       "</table>\n",
       "<p>3 rows × 129 columns</p>\n",
       "</div>"
      ],
      "text/plain": [
       "   school_state  school_state  school_state  school_state  school_state  \\\n",
       "0           0.0           0.0           0.0           0.0           0.0   \n",
       "1           0.0           0.0           0.0           0.0           0.0   \n",
       "2           0.0           0.0           0.0           0.0           0.0   \n",
       "\n",
       "   school_state  school_state  school_state  school_state  school_state  \\\n",
       "0           0.0           0.0           0.0           0.0           0.0   \n",
       "1           0.0           0.0           0.0           0.0           0.0   \n",
       "2           0.0           0.0           0.0           0.0           1.0   \n",
       "\n",
       "       ...       sports  team  visual  warmth  wellness  writing  \\\n",
       "0      ...            0     0       0       0         0        1   \n",
       "1      ...            0     0       0       0         0        0   \n",
       "2      ...            0     0       0       0         0        0   \n",
       "\n",
       "   nrm_teacher_number_of_previously_posted_projects  nrm_price  \\\n",
       "0                                         -0.185953   0.014935   \n",
       "1                                         -0.293475   0.000433   \n",
       "2                                         -0.400996   0.058306   \n",
       "\n",
       "   nrm_presence_of_the_numerical_digits  nrm_quantity  \n",
       "0                                     1      2.438385  \n",
       "1                                     0     -0.410108  \n",
       "2                                     1      2.438385  \n",
       "\n",
       "[3 rows x 129 columns]"
      ]
     },
     "execution_count": 8,
     "metadata": {},
     "output_type": "execute_result"
    }
   ],
   "source": [
    "encoded_df_train.head(3)"
   ]
  },
  {
   "cell_type": "code",
   "execution_count": 9,
   "metadata": {},
   "outputs": [
    {
     "data": {
      "text/html": [
       "<div>\n",
       "<style scoped>\n",
       "    .dataframe tbody tr th:only-of-type {\n",
       "        vertical-align: middle;\n",
       "    }\n",
       "\n",
       "    .dataframe tbody tr th {\n",
       "        vertical-align: top;\n",
       "    }\n",
       "\n",
       "    .dataframe thead th {\n",
       "        text-align: right;\n",
       "    }\n",
       "</style>\n",
       "<table border=\"1\" class=\"dataframe\">\n",
       "  <thead>\n",
       "    <tr style=\"text-align: right;\">\n",
       "      <th></th>\n",
       "      <th>school_state</th>\n",
       "      <th>school_state</th>\n",
       "      <th>school_state</th>\n",
       "      <th>school_state</th>\n",
       "      <th>school_state</th>\n",
       "      <th>school_state</th>\n",
       "      <th>school_state</th>\n",
       "      <th>school_state</th>\n",
       "      <th>school_state</th>\n",
       "      <th>school_state</th>\n",
       "      <th>...</th>\n",
       "      <th>sports</th>\n",
       "      <th>team</th>\n",
       "      <th>visual</th>\n",
       "      <th>warmth</th>\n",
       "      <th>wellness</th>\n",
       "      <th>writing</th>\n",
       "      <th>nrm_teacher_number_of_previously_posted_projects</th>\n",
       "      <th>nrm_price</th>\n",
       "      <th>nrm_presence_of_the_numerical_digits</th>\n",
       "      <th>nrm_quantity</th>\n",
       "    </tr>\n",
       "  </thead>\n",
       "  <tbody>\n",
       "    <tr>\n",
       "      <th>0</th>\n",
       "      <td>0.0</td>\n",
       "      <td>0.0</td>\n",
       "      <td>0.0</td>\n",
       "      <td>0.0</td>\n",
       "      <td>0.0</td>\n",
       "      <td>0.0</td>\n",
       "      <td>0.0</td>\n",
       "      <td>0.0</td>\n",
       "      <td>0.0</td>\n",
       "      <td>0.0</td>\n",
       "      <td>...</td>\n",
       "      <td>0</td>\n",
       "      <td>0</td>\n",
       "      <td>0</td>\n",
       "      <td>0</td>\n",
       "      <td>0</td>\n",
       "      <td>0</td>\n",
       "      <td>-0.400996</td>\n",
       "      <td>0.000459</td>\n",
       "      <td>0</td>\n",
       "      <td>-0.410108</td>\n",
       "    </tr>\n",
       "    <tr>\n",
       "      <th>1</th>\n",
       "      <td>0.0</td>\n",
       "      <td>0.0</td>\n",
       "      <td>0.0</td>\n",
       "      <td>0.0</td>\n",
       "      <td>1.0</td>\n",
       "      <td>0.0</td>\n",
       "      <td>0.0</td>\n",
       "      <td>0.0</td>\n",
       "      <td>0.0</td>\n",
       "      <td>0.0</td>\n",
       "      <td>...</td>\n",
       "      <td>0</td>\n",
       "      <td>0</td>\n",
       "      <td>0</td>\n",
       "      <td>0</td>\n",
       "      <td>0</td>\n",
       "      <td>0</td>\n",
       "      <td>-0.042591</td>\n",
       "      <td>0.003934</td>\n",
       "      <td>0</td>\n",
       "      <td>-0.410108</td>\n",
       "    </tr>\n",
       "    <tr>\n",
       "      <th>2</th>\n",
       "      <td>0.0</td>\n",
       "      <td>0.0</td>\n",
       "      <td>0.0</td>\n",
       "      <td>0.0</td>\n",
       "      <td>0.0</td>\n",
       "      <td>0.0</td>\n",
       "      <td>0.0</td>\n",
       "      <td>0.0</td>\n",
       "      <td>0.0</td>\n",
       "      <td>0.0</td>\n",
       "      <td>...</td>\n",
       "      <td>0</td>\n",
       "      <td>0</td>\n",
       "      <td>0</td>\n",
       "      <td>0</td>\n",
       "      <td>0</td>\n",
       "      <td>0</td>\n",
       "      <td>-0.400996</td>\n",
       "      <td>0.022887</td>\n",
       "      <td>0</td>\n",
       "      <td>-0.410108</td>\n",
       "    </tr>\n",
       "  </tbody>\n",
       "</table>\n",
       "<p>3 rows × 129 columns</p>\n",
       "</div>"
      ],
      "text/plain": [
       "   school_state  school_state  school_state  school_state  school_state  \\\n",
       "0           0.0           0.0           0.0           0.0           0.0   \n",
       "1           0.0           0.0           0.0           0.0           1.0   \n",
       "2           0.0           0.0           0.0           0.0           0.0   \n",
       "\n",
       "   school_state  school_state  school_state  school_state  school_state  \\\n",
       "0           0.0           0.0           0.0           0.0           0.0   \n",
       "1           0.0           0.0           0.0           0.0           0.0   \n",
       "2           0.0           0.0           0.0           0.0           0.0   \n",
       "\n",
       "       ...       sports  team  visual  warmth  wellness  writing  \\\n",
       "0      ...            0     0       0       0         0        0   \n",
       "1      ...            0     0       0       0         0        0   \n",
       "2      ...            0     0       0       0         0        0   \n",
       "\n",
       "   nrm_teacher_number_of_previously_posted_projects  nrm_price  \\\n",
       "0                                         -0.400996   0.000459   \n",
       "1                                         -0.042591   0.003934   \n",
       "2                                         -0.400996   0.022887   \n",
       "\n",
       "   nrm_presence_of_the_numerical_digits  nrm_quantity  \n",
       "0                                     0     -0.410108  \n",
       "1                                     0     -0.410108  \n",
       "2                                     0     -0.410108  \n",
       "\n",
       "[3 rows x 129 columns]"
      ]
     },
     "execution_count": 9,
     "metadata": {},
     "output_type": "execute_result"
    }
   ],
   "source": [
    "encoded_df_test.head(3)"
   ]
  },
  {
   "cell_type": "code",
   "execution_count": 10,
   "metadata": {},
   "outputs": [
    {
     "name": "stdout",
     "output_type": "stream",
     "text": [
      "WARNING:tensorflow:From /root/anaconda3/lib/python3.7/site-packages/tensorflow/python/framework/op_def_library.py:263: colocate_with (from tensorflow.python.framework.ops) is deprecated and will be removed in a future version.\n",
      "Instructions for updating:\n",
      "Colocations handled automatically by placer.\n"
     ]
    }
   ],
   "source": [
    "from keras.layers import Conv1D, MaxPooling2D, Input, Dense, Flatten\n",
    "from keras.models import Model\n",
    "\n",
    "conv_input = Input(shape=(129,1))\n",
    "x = Conv1D(filters=64, kernel_size=4, activation='relu')(conv_input)\n",
    "x = Conv1D(filters=64, kernel_size=4, activation='relu')(x)\n",
    "flatten_conv_output = Flatten()(x) "
   ]
  },
  {
   "cell_type": "markdown",
   "metadata": {},
   "source": [
    "## Total Text Data"
   ]
  },
  {
   "cell_type": "markdown",
   "metadata": {},
   "source": [
    "### Build training data"
   ]
  },
  {
   "cell_type": "code",
   "execution_count": 11,
   "metadata": {},
   "outputs": [],
   "source": [
    "docs_essay_train=list(X_train.essay.values)\n",
    "labels_train=np.array(y_train)"
   ]
  },
  {
   "cell_type": "code",
   "execution_count": 12,
   "metadata": {},
   "outputs": [
    {
     "name": "stdout",
     "output_type": "stream",
     "text": [
      "51486\n"
     ]
    }
   ],
   "source": [
    "#Prepare tokenizer\n",
    "tokens = Tokenizer()\n",
    "tokens.fit_on_texts(docs_essay_train)\n",
    "vocab_size_train = len(tokens.word_index) + 1\n",
    "#Integer encode the documents\n",
    "encoded_docs_essay_train = tokens.texts_to_sequences(docs_essay_train)\n",
    "#print(encoded_docs)\n",
    "print(vocab_size_train)"
   ]
  },
  {
   "cell_type": "code",
   "execution_count": 13,
   "metadata": {},
   "outputs": [
    {
     "name": "stdout",
     "output_type": "stream",
     "text": [
      "320\n"
     ]
    }
   ],
   "source": [
    "max_len=0\n",
    "all_lengths=[]\n",
    "for sent in docs_essay_train:\n",
    "    length=len(sent.split())\n",
    "    all_lengths.append(length)\n",
    "print(max(all_lengths))"
   ]
  },
  {
   "cell_type": "code",
   "execution_count": 14,
   "metadata": {},
   "outputs": [
    {
     "name": "stdout",
     "output_type": "stream",
     "text": [
      "[[  710   261    85 ...     0     0     0]\n",
      " [ 4081  1127   187 ...     0     0     0]\n",
      " [ 1480     1    26 ...     0     0     0]\n",
      " ...\n",
      " [    1  1266   812 ...     0     0     0]\n",
      " [10770   776  3097 ...     0     0     0]\n",
      " [  343    10    92 ...     0     0     0]]\n"
     ]
    }
   ],
   "source": [
    "# pad documents to a max length of 4 words\n",
    "max_length = max(all_lengths)\n",
    "padded_docs_essay_train = pad_sequences(encoded_docs_essay_train, maxlen=max_length, padding='post')\n",
    "print(padded_docs_essay_train)"
   ]
  },
  {
   "cell_type": "code",
   "execution_count": 15,
   "metadata": {},
   "outputs": [
    {
     "name": "stderr",
     "output_type": "stream",
     "text": [
      " 37%|███▋      | 18795/51485 [00:00<00:00, 187943.46it/s]"
     ]
    },
    {
     "name": "stdout",
     "output_type": "stream",
     "text": [
      "Loaded 400000 word vectors.\n"
     ]
    },
    {
     "name": "stderr",
     "output_type": "stream",
     "text": [
      "100%|██████████| 51485/51485 [00:00<00:00, 214298.15it/s]"
     ]
    },
    {
     "name": "stdout",
     "output_type": "stream",
     "text": [
      "51486\n",
      "300\n"
     ]
    },
    {
     "name": "stderr",
     "output_type": "stream",
     "text": [
      "\n"
     ]
    }
   ],
   "source": [
    "#Load the whole embedding into memory\n",
    "embeddings_index = dict()\n",
    "file = open('glove.6B.300d.txt')\n",
    "for line in file:\n",
    "    values = line.split()\n",
    "    word = values[0]\n",
    "    coefs = asarray(values[1:], dtype='float32')\n",
    "    embeddings_index[word] = coefs\n",
    "file.close()\n",
    "\n",
    "print('Loaded %s word vectors.' % len(embeddings_index))\n",
    "\n",
    "#Create a weight matrix for words in training docs\n",
    "embedding_matrix = zeros((vocab_size_train, 300))\n",
    "for word, i in tqdm(tokens.word_index.items()):\n",
    "    embedding_vector = embeddings_index.get(word)\n",
    "    if embedding_vector is not None:\n",
    "        embedding_matrix[i] = embedding_vector #embedding_matrix.shape: (9049, 300)\n",
    "        \n",
    "print(len(embedding_matrix))\n",
    "print(len(embedding_matrix[0]))"
   ]
  },
  {
   "cell_type": "code",
   "execution_count": 16,
   "metadata": {},
   "outputs": [],
   "source": [
    "#Get the flattened LSTM output for input text\n",
    "input_layer1 = Input(shape=(max_length,))\n",
    "embedding = Embedding(input_dim=vocab_size_train, output_dim=300, weights=[embedding_matrix], input_length=max_length, trainable=False)(input_layer1)\n",
    "lstm_out = LSTM(32, return_sequences=True)(embedding)\n",
    "flatten_lstm_out = Flatten()(lstm_out)"
   ]
  },
  {
   "cell_type": "markdown",
   "metadata": {},
   "source": [
    "### Building test data"
   ]
  },
  {
   "cell_type": "code",
   "execution_count": 17,
   "metadata": {},
   "outputs": [],
   "source": [
    "docs_essay_test=list(X_test.essay.values)\n",
    "labels_test=np.array(y_test)"
   ]
  },
  {
   "cell_type": "code",
   "execution_count": 18,
   "metadata": {},
   "outputs": [
    {
     "name": "stdout",
     "output_type": "stream",
     "text": [
      "30150\n"
     ]
    }
   ],
   "source": [
    "#Prepare tokenizer\n",
    "tokens = Tokenizer()\n",
    "tokens.fit_on_texts(docs_essay_test)\n",
    "vocab_size_test = len(tokens.word_index) + 1\n",
    "#Integer encode the documents\n",
    "encoded_docs_essay_test = tokens.texts_to_sequences(docs_essay_test)\n",
    "#print(encoded_docs)\n",
    "print(vocab_size_test)"
   ]
  },
  {
   "cell_type": "code",
   "execution_count": 19,
   "metadata": {},
   "outputs": [
    {
     "name": "stdout",
     "output_type": "stream",
     "text": [
      "[[  408   853  1683 ...     0     0     0]\n",
      " [    2    23   135 ...     0     0     0]\n",
      " [ 1401    69     1 ...     0     0     0]\n",
      " ...\n",
      " [13883 13884 13885 ...     0     0     0]\n",
      " [    1    16 15760 ...     0     0     0]\n",
      " [  466     1    83 ...     0     0     0]]\n"
     ]
    }
   ],
   "source": [
    "#Pad documents to a max length\n",
    "padded_docs_essay_test = pad_sequences(encoded_docs_essay_test, maxlen=max_length, padding='post')\n",
    "print(padded_docs_essay_test)"
   ]
  },
  {
   "cell_type": "markdown",
   "metadata": {},
   "source": [
    "### Concatenating the layers."
   ]
  },
  {
   "cell_type": "code",
   "execution_count": 21,
   "metadata": {},
   "outputs": [
    {
     "name": "stdout",
     "output_type": "stream",
     "text": [
      "WARNING:tensorflow:From /root/anaconda3/lib/python3.7/site-packages/keras/backend/tensorflow_backend.py:3445: calling dropout (from tensorflow.python.ops.nn_ops) with keep_prob is deprecated and will be removed in a future version.\n",
      "Instructions for updating:\n",
      "Please use `rate` instead of `keep_prob`. Rate should be set to `rate = 1 - keep_prob`.\n"
     ]
    }
   ],
   "source": [
    "from keras.layers import Input, Embedding, LSTM, Dense, concatenate, Dropout\n",
    "\n",
    "x = concatenate([flatten_lstm_out, flatten_conv_output])\n",
    "\n",
    "x = Dense(64, activation='relu')(x)\n",
    "x = Dropout(0.3)(x)\n",
    "x = Dense(64, activation='relu')(x)\n",
    "x = Dropout(0.3)(x)\n",
    "x = Dense(64, activation='relu')(x)\n",
    "\n",
    "output = Dense(1, activation='sigmoid', name='output')(x)"
   ]
  },
  {
   "cell_type": "markdown",
   "metadata": {},
   "source": [
    "### Defining a custom metric AUC"
   ]
  },
  {
   "cell_type": "code",
   "execution_count": 22,
   "metadata": {},
   "outputs": [],
   "source": [
    "from sklearn import metrics as sklm\n",
    "import tensorflow as tf\n",
    "def auc_roc(y_true, y_pred):\n",
    "    try:\n",
    "        return tf.py_func(sklm.roc_auc_score, (y_true, y_pred), tf.double)\n",
    "    except ValueError:\n",
    "        pass"
   ]
  },
  {
   "cell_type": "markdown",
   "metadata": {},
   "source": [
    "### Defining a TensorBoard callback object"
   ]
  },
  {
   "cell_type": "code",
   "execution_count": 23,
   "metadata": {},
   "outputs": [],
   "source": [
    "from time import time\n",
    "from tensorflow.python.keras.callbacks import TensorBoard\n",
    "tensorboard = TensorBoard(log_dir=\"logs/{}\".format(time))"
   ]
  },
  {
   "cell_type": "markdown",
   "metadata": {},
   "source": [
    "### Compiling the final model"
   ]
  },
  {
   "cell_type": "code",
   "execution_count": 25,
   "metadata": {},
   "outputs": [],
   "source": [
    "model = Model(inputs=[input_layer1,conv_input], outputs=[output])\n",
    "encoded_df_train_exp = np.expand_dims(encoded_df_train.values, axis=2)\n",
    "encoded_df_test_exp = np.expand_dims(encoded_df_test.values, axis=2)"
   ]
  },
  {
   "cell_type": "code",
   "execution_count": 27,
   "metadata": {},
   "outputs": [
    {
     "name": "stdout",
     "output_type": "stream",
     "text": [
      "Train on 87398 samples, validate on 21850 samples\n",
      "Epoch 1/10\n",
      "87398/87398 [==============================] - 581s 7ms/step - loss: 0.3969 - acc: 0.8489 - auc_roc: 0.7003 - val_loss: 0.4652 - val_acc: 0.8255 - val_auc_roc: 0.5778\n",
      "Epoch 2/10\n",
      "87398/87398 [==============================] - 593s 7ms/step - loss: 0.3743 - acc: 0.8529 - auc_roc: 0.7511 - val_loss: 0.4569 - val_acc: 0.8210 - val_auc_roc: 0.5741\n",
      "Epoch 3/10\n",
      "87398/87398 [==============================] - 596s 7ms/step - loss: 0.3487 - acc: 0.8618 - auc_roc: 0.7980 - val_loss: 0.4521 - val_acc: 0.8364 - val_auc_roc: 0.5660\n",
      "Epoch 4/10\n",
      "87398/87398 [==============================] - 567s 6ms/step - loss: 0.3150 - acc: 0.8759 - auc_roc: 0.8443 - val_loss: 0.4746 - val_acc: 0.8286 - val_auc_roc: 0.5636\n",
      "Epoch 5/10\n",
      "87398/87398 [==============================] - 563s 6ms/step - loss: 0.2758 - acc: 0.8915 - auc_roc: 0.8866 - val_loss: 0.5027 - val_acc: 0.8146 - val_auc_roc: 0.5569\n",
      "Epoch 6/10\n",
      "87398/87398 [==============================] - 562s 6ms/step - loss: 0.2400 - acc: 0.9062 - auc_roc: 0.9186 - val_loss: 0.5823 - val_acc: 0.7277 - val_auc_roc: 0.5589\n",
      "Epoch 7/10\n",
      "87398/87398 [==============================] - 562s 6ms/step - loss: 0.2070 - acc: 0.9204 - auc_roc: 0.9411 - val_loss: 0.6100 - val_acc: 0.7778 - val_auc_roc: 0.5485\n",
      "Epoch 8/10\n",
      "87398/87398 [==============================] - 561s 6ms/step - loss: 0.1746 - acc: 0.9322 - auc_roc: 0.9601 - val_loss: 0.6809 - val_acc: 0.6984 - val_auc_roc: 0.5502\n",
      "Epoch 9/10\n",
      "87398/87398 [==============================] - 561s 6ms/step - loss: 0.1548 - acc: 0.9409 - auc_roc: 0.9696 - val_loss: 0.7232 - val_acc: 0.7637 - val_auc_roc: 0.5484\n",
      "Epoch 10/10\n",
      "87398/87398 [==============================] - 562s 6ms/step - loss: 0.1325 - acc: 0.9508 - auc_roc: 0.9784 - val_loss: 0.8134 - val_acc: 0.7658 - val_auc_roc: 0.5456\n"
     ]
    },
    {
     "data": {
      "text/plain": [
       "<keras.callbacks.History at 0x7f367b8a56a0>"
      ]
     },
     "execution_count": 27,
     "metadata": {},
     "output_type": "execute_result"
    }
   ],
   "source": [
    "model.compile(optimizer='rmsprop', loss='binary_crossentropy', metrics=['accuracy',auc_roc])\n",
    "model.fit(x=[padded_docs_essay_train, encoded_df_train_exp], \n",
    "          y=[labels_train],\n",
    "          epochs=10, \n",
    "          batch_size=64,\n",
    "          validation_data=([padded_docs_essay_test, encoded_df_test_exp],[labels_test]),\n",
    "          callbacks=[tensorboard])"
   ]
  },
  {
   "cell_type": "code",
   "execution_count": null,
   "metadata": {},
   "outputs": [],
   "source": [
    "!tensorboard --logdir=logs/"
   ]
  },
  {
   "cell_type": "code",
   "execution_count": null,
   "metadata": {},
   "outputs": [],
   "source": []
  },
  {
   "cell_type": "code",
   "execution_count": null,
   "metadata": {},
   "outputs": [],
   "source": []
  },
  {
   "cell_type": "code",
   "execution_count": null,
   "metadata": {},
   "outputs": [],
   "source": []
  },
  {
   "cell_type": "code",
   "execution_count": null,
   "metadata": {},
   "outputs": [],
   "source": []
  },
  {
   "cell_type": "code",
   "execution_count": null,
   "metadata": {},
   "outputs": [],
   "source": []
  },
  {
   "cell_type": "code",
   "execution_count": null,
   "metadata": {},
   "outputs": [],
   "source": []
  },
  {
   "cell_type": "code",
   "execution_count": null,
   "metadata": {},
   "outputs": [],
   "source": []
  },
  {
   "cell_type": "code",
   "execution_count": null,
   "metadata": {},
   "outputs": [],
   "source": []
  },
  {
   "cell_type": "code",
   "execution_count": null,
   "metadata": {},
   "outputs": [],
   "source": []
  },
  {
   "cell_type": "code",
   "execution_count": null,
   "metadata": {},
   "outputs": [],
   "source": []
  },
  {
   "cell_type": "code",
   "execution_count": null,
   "metadata": {},
   "outputs": [],
   "source": []
  },
  {
   "cell_type": "code",
   "execution_count": null,
   "metadata": {},
   "outputs": [],
   "source": []
  },
  {
   "cell_type": "code",
   "execution_count": null,
   "metadata": {},
   "outputs": [],
   "source": []
  },
  {
   "cell_type": "code",
   "execution_count": null,
   "metadata": {},
   "outputs": [],
   "source": []
  },
  {
   "cell_type": "code",
   "execution_count": null,
   "metadata": {},
   "outputs": [],
   "source": []
  },
  {
   "cell_type": "code",
   "execution_count": null,
   "metadata": {},
   "outputs": [],
   "source": []
  },
  {
   "cell_type": "code",
   "execution_count": null,
   "metadata": {},
   "outputs": [],
   "source": []
  },
  {
   "cell_type": "code",
   "execution_count": null,
   "metadata": {},
   "outputs": [],
   "source": []
  },
  {
   "cell_type": "code",
   "execution_count": null,
   "metadata": {},
   "outputs": [],
   "source": []
  },
  {
   "cell_type": "code",
   "execution_count": null,
   "metadata": {},
   "outputs": [],
   "source": []
  },
  {
   "cell_type": "code",
   "execution_count": null,
   "metadata": {},
   "outputs": [],
   "source": []
  },
  {
   "cell_type": "code",
   "execution_count": null,
   "metadata": {},
   "outputs": [],
   "source": []
  },
  {
   "cell_type": "code",
   "execution_count": null,
   "metadata": {},
   "outputs": [],
   "source": []
  }
 ],
 "metadata": {
  "kernelspec": {
   "display_name": "Python 3",
   "language": "python",
   "name": "python3"
  },
  "language_info": {
   "codemirror_mode": {
    "name": "ipython",
    "version": 3
   },
   "file_extension": ".py",
   "mimetype": "text/x-python",
   "name": "python",
   "nbconvert_exporter": "python",
   "pygments_lexer": "ipython3",
   "version": "3.7.1"
  }
 },
 "nbformat": 4,
 "nbformat_minor": 2
}
